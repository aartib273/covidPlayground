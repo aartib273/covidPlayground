{
 "cells": [
  {
   "cell_type": "code",
   "execution_count": 1,
   "metadata": {},
   "outputs": [],
   "source": [
    "import requests\n",
    "\n",
    "\n",
    "data = requests.get(\"https://api.covid19api.com/summary\")"
   ]
  },
  {
   "cell_type": "code",
   "execution_count": 20,
   "metadata": {
    "tags": [
     "outputPrepend"
    ]
   },
   "outputs": [
    {
     "output_type": "execute_result",
     "data": {
      "text/plain": "            Country CountryCode  ... TotalRecovered                  Date\n0       Afghanistan          AF  ...            558  2020-05-11T17:21:26Z\n1           Albania          AL  ...            650  2020-05-11T17:21:26Z\n2           Algeria          DZ  ...           2678  2020-05-11T17:21:26Z\n3           Andorra          AD  ...            550  2020-05-11T17:21:26Z\n4            Angola          AO  ...             13  2020-05-11T17:21:26Z\n..              ...         ...  ...            ...                   ...\n180        Viet Nam          VN  ...            241  2020-05-11T17:21:26Z\n181  Western Sahara          EH  ...              5  2020-05-11T17:21:26Z\n182           Yemen          YE  ...              1  2020-05-11T17:21:26Z\n183          Zambia          ZM  ...            117  2020-05-11T17:21:26Z\n184        Zimbabwe          ZW  ...              9  2020-05-11T17:21:26Z\n\n[185 rows x 10 columns]",
      "text/html": "<div>\n<style scoped>\n    .dataframe tbody tr th:only-of-type {\n        vertical-align: middle;\n    }\n\n    .dataframe tbody tr th {\n        vertical-align: top;\n    }\n\n    .dataframe thead th {\n        text-align: right;\n    }\n</style>\n<table border=\"1\" class=\"dataframe\">\n  <thead>\n    <tr style=\"text-align: right;\">\n      <th></th>\n      <th>Country</th>\n      <th>CountryCode</th>\n      <th>Slug</th>\n      <th>NewConfirmed</th>\n      <th>TotalConfirmed</th>\n      <th>NewDeaths</th>\n      <th>TotalDeaths</th>\n      <th>NewRecovered</th>\n      <th>TotalRecovered</th>\n      <th>Date</th>\n    </tr>\n  </thead>\n  <tbody>\n    <tr>\n      <th>0</th>\n      <td>Afghanistan</td>\n      <td>AF</td>\n      <td>afghanistan</td>\n      <td>369</td>\n      <td>4402</td>\n      <td>5</td>\n      <td>120</td>\n      <td>56</td>\n      <td>558</td>\n      <td>2020-05-11T17:21:26Z</td>\n    </tr>\n    <tr>\n      <th>1</th>\n      <td>Albania</td>\n      <td>AL</td>\n      <td>albania</td>\n      <td>12</td>\n      <td>868</td>\n      <td>0</td>\n      <td>31</td>\n      <td>23</td>\n      <td>650</td>\n      <td>2020-05-11T17:21:26Z</td>\n    </tr>\n    <tr>\n      <th>2</th>\n      <td>Algeria</td>\n      <td>DZ</td>\n      <td>algeria</td>\n      <td>165</td>\n      <td>5723</td>\n      <td>8</td>\n      <td>502</td>\n      <td>132</td>\n      <td>2678</td>\n      <td>2020-05-11T17:21:26Z</td>\n    </tr>\n    <tr>\n      <th>3</th>\n      <td>Andorra</td>\n      <td>AD</td>\n      <td>andorra</td>\n      <td>1</td>\n      <td>755</td>\n      <td>0</td>\n      <td>48</td>\n      <td>5</td>\n      <td>550</td>\n      <td>2020-05-11T17:21:26Z</td>\n    </tr>\n    <tr>\n      <th>4</th>\n      <td>Angola</td>\n      <td>AO</td>\n      <td>angola</td>\n      <td>2</td>\n      <td>45</td>\n      <td>0</td>\n      <td>2</td>\n      <td>0</td>\n      <td>13</td>\n      <td>2020-05-11T17:21:26Z</td>\n    </tr>\n    <tr>\n      <th>...</th>\n      <td>...</td>\n      <td>...</td>\n      <td>...</td>\n      <td>...</td>\n      <td>...</td>\n      <td>...</td>\n      <td>...</td>\n      <td>...</td>\n      <td>...</td>\n      <td>...</td>\n    </tr>\n    <tr>\n      <th>180</th>\n      <td>Viet Nam</td>\n      <td>VN</td>\n      <td>vietnam</td>\n      <td>0</td>\n      <td>288</td>\n      <td>0</td>\n      <td>0</td>\n      <td>0</td>\n      <td>241</td>\n      <td>2020-05-11T17:21:26Z</td>\n    </tr>\n    <tr>\n      <th>181</th>\n      <td>Western Sahara</td>\n      <td>EH</td>\n      <td>western-sahara</td>\n      <td>0</td>\n      <td>6</td>\n      <td>0</td>\n      <td>0</td>\n      <td>0</td>\n      <td>5</td>\n      <td>2020-05-11T17:21:26Z</td>\n    </tr>\n    <tr>\n      <th>182</th>\n      <td>Yemen</td>\n      <td>YE</td>\n      <td>yemen</td>\n      <td>17</td>\n      <td>51</td>\n      <td>1</td>\n      <td>8</td>\n      <td>0</td>\n      <td>1</td>\n      <td>2020-05-11T17:21:26Z</td>\n    </tr>\n    <tr>\n      <th>183</th>\n      <td>Zambia</td>\n      <td>ZM</td>\n      <td>zambia</td>\n      <td>15</td>\n      <td>267</td>\n      <td>0</td>\n      <td>7</td>\n      <td>5</td>\n      <td>117</td>\n      <td>2020-05-11T17:21:26Z</td>\n    </tr>\n    <tr>\n      <th>184</th>\n      <td>Zimbabwe</td>\n      <td>ZW</td>\n      <td>zimbabwe</td>\n      <td>1</td>\n      <td>36</td>\n      <td>0</td>\n      <td>4</td>\n      <td>0</td>\n      <td>9</td>\n      <td>2020-05-11T17:21:26Z</td>\n    </tr>\n  </tbody>\n</table>\n<p>185 rows × 10 columns</p>\n</div>"
     },
     "metadata": {},
     "execution_count": 20
    }
   ],
   "source": [
    "# type(data.json())\n",
    "# data.json()\n",
    "d=data.json()\n",
    "# for key in d:\n",
    "#     print(key,d[\"Countries\"])\n",
    "\n",
    "import numpy as np\n",
    "import pandas as pd\n",
    "# print ()\n",
    "# d=data.json().Countries\n",
    "pd.DataFrame(d[\"Countries\"])\n",
    "# pd.head()"
   ]
  },
  {
   "cell_type": "code",
   "execution_count": 22,
   "metadata": {},
   "outputs": [],
   "source": [
    "data = pd.DataFrame(d[\"Countries\"])\n",
    "data.to_csv('covid-d.csv')"
   ]
  },
  {
   "cell_type": "code",
   "execution_count": null,
   "metadata": {},
   "outputs": [],
   "source": []
  }
 ],
 "metadata": {
  "language_info": {
   "codemirror_mode": {
    "name": "ipython",
    "version": 3
   },
   "file_extension": ".py",
   "mimetype": "text/x-python",
   "name": "python",
   "nbconvert_exporter": "python",
   "pygments_lexer": "ipython3",
   "version": "3.8.1-final"
  },
  "orig_nbformat": 2,
  "kernelspec": {
   "name": "python38132bitdee88f08428945b98bfc187db920425f",
   "display_name": "Python 3.8.1 32-bit"
  }
 },
 "nbformat": 4,
 "nbformat_minor": 2
}